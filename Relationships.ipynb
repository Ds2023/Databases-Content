{
  "nbformat": 4,
  "nbformat_minor": 0,
  "metadata": {
    "colab": {
      "provenance": [],
      "authorship_tag": "ABX9TyPGCHkVjokiudpA7WtLJdzu",
      "include_colab_link": true
    },
    "kernelspec": {
      "name": "python3",
      "display_name": "Python 3"
    },
    "language_info": {
      "name": "python"
    }
  },
  "cells": [
    {
      "cell_type": "markdown",
      "metadata": {
        "id": "view-in-github",
        "colab_type": "text"
      },
      "source": [
        "<a href=\"https://colab.research.google.com/github/Ds2023/Databases-Content/blob/main/Relationships.ipynb\" target=\"_parent\"><img src=\"https://colab.research.google.com/assets/colab-badge.svg\" alt=\"Open In Colab\"/></a>"
      ]
    },
    {
      "cell_type": "markdown",
      "source": [
        "# **Degree in Relationships**"
      ],
      "metadata": {
        "id": "YIfacFz5tzj8"
      }
    },
    {
      "cell_type": "markdown",
      "source": [
        "- The \"degree\" of a relationship refers to the number of entities involved in the relationship.\n",
        "- It indicates how many entity types are associated with one another within a relationship.Here are the main types of degrees in relationships:"
      ],
      "metadata": {
        "id": "tiUYIC3Ct5hF"
      }
    },
    {
      "cell_type": "markdown",
      "source": [
        "**Unary Relationship (Degree 1):**\n",
        "\n",
        "- A relationship between instances of a single entity type.\n",
        "\n",
        "- **Example:** An employee manages another employee within the same organization. Here, the entity Employee is related to itself in a hierarchical structure."
      ],
      "metadata": {
        "id": "Onr4iGZIuDYB"
      }
    },
    {
      "cell_type": "code",
      "execution_count": null,
      "metadata": {
        "id": "0eyYk9GotC7U"
      },
      "outputs": [],
      "source": [
        "CREATE TABLE Employee (\n",
        "    EmployeeID INT PRIMARY KEY,\n",
        "    Name VARCHAR(100),\n",
        "    ManagerID INT,\n",
        "    FOREIGN KEY (ManagerID) REFERENCES Employee(EmployeeID)\n",
        ");\n"
      ]
    },
    {
      "cell_type": "markdown",
      "source": [
        "**Binary Relationship (Degree 2):**\n",
        "\n",
        "- A relationship between instances of two different entity types.\n",
        "- **Example:** A customer places an order. Here, the relationship is between the Customer entity and the Order entity."
      ],
      "metadata": {
        "id": "I9Bzt0xCuoAX"
      }
    },
    {
      "cell_type": "code",
      "source": [
        "CREATE TABLE Customer (\n",
        "    CustomerID INT PRIMARY KEY,\n",
        "    Name VARCHAR(100)\n",
        ");\n",
        "\n",
        "CREATE TABLE Order (\n",
        "    OrderID INT PRIMARY KEY,\n",
        "    OrderDate DATE,\n",
        "    CustomerID INT,\n",
        "    FOREIGN KEY (CustomerID) REFERENCES Customer(CustomerID)\n",
        ");\n"
      ],
      "metadata": {
        "id": "Lq8WMb7Kuv8t"
      },
      "execution_count": null,
      "outputs": []
    },
    {
      "cell_type": "markdown",
      "source": [
        "**Ternary Relationship (Degree 3):**\n",
        "\n",
        "- A relationship that involves three different entity types.\n",
        "- **Example:** A supplier supplies a product to a project. Here, the relationship involves Supplier, Product, and Project entities."
      ],
      "metadata": {
        "id": "enGxMj2IuyMC"
      }
    },
    {
      "cell_type": "code",
      "source": [
        "CREATE TABLE Supplier (\n",
        "    SupplierID INT PRIMARY KEY,\n",
        "    Name VARCHAR(100)\n",
        ");\n",
        "\n",
        "CREATE TABLE Product (\n",
        "    ProductID INT PRIMARY KEY,\n",
        "    Name VARCHAR(100)\n",
        ");\n",
        "\n",
        "CREATE TABLE Project (\n",
        "    ProjectID INT PRIMARY KEY,\n",
        "    Name VARCHAR(100)\n",
        ");\n",
        "\n",
        "CREATE TABLE Supply (\n",
        "    SupplierID INT,\n",
        "    ProductID INT,\n",
        "    ProjectID INT,\n",
        "    Quantity INT,\n",
        "    PRIMARY KEY (SupplierID, ProductID, ProjectID),\n",
        "    FOREIGN KEY (SupplierID) REFERENCES Supplier(SupplierID),\n",
        "    FOREIGN KEY (ProductID) REFERENCES Product(ProductID),\n",
        "    FOREIGN KEY (ProjectID) REFERENCES Project(ProjectID)\n",
        ");\n"
      ],
      "metadata": {
        "id": "UHP9TkdJu4oU"
      },
      "execution_count": null,
      "outputs": []
    },
    {
      "cell_type": "markdown",
      "source": [
        "**N-ary Relationship (Degree N):**\n",
        "\n",
        "- A relationship that involves N different entity types, where N is greater than 3.\n",
        "- **Example:** Consider a scenario in which multiple entities such as Doctor, Patient, Medication, and Pharmacy are involved in a single relationship to manage medication dispensation. Here, the degree of the relationship is 4."
      ],
      "metadata": {
        "id": "H6cCPY43u7IS"
      }
    },
    {
      "cell_type": "code",
      "source": [
        "CREATE TABLE Supplier (\n",
        "    SupplierID INT PRIMARY KEY,\n",
        "    Name VARCHAR(100)\n",
        ");\n",
        "\n",
        "CREATE TABLE Product (\n",
        "    ProductID INT PRIMARY KEY,\n",
        "    Name VARCHAR(100)\n",
        ");\n",
        "\n",
        "CREATE TABLE Project (\n",
        "    ProjectID INT PRIMARY KEY,\n",
        "    Name VARCHAR(100)\n",
        ");\n",
        "\n",
        "CREATE TABLE Supply (\n",
        "    SupplierID INT,\n",
        "    ProductID INT,\n",
        "    ProjectID INT,\n",
        "    Quantity INT,\n",
        "    PRIMARY KEY (SupplierID, ProductID, ProjectID),\n",
        "    FOREIGN KEY (SupplierID) REFERENCES Supplier(SupplierID),\n",
        "    FOREIGN KEY (ProductID) REFERENCES Product(ProductID),\n",
        "    FOREIGN KEY (ProjectID) REFERENCES Project(ProjectID)\n",
        ");\n"
      ],
      "metadata": {
        "id": "cPLA9_I3vDGo"
      },
      "execution_count": null,
      "outputs": []
    }
  ]
}