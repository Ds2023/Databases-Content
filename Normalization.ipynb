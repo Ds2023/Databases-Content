{
  "nbformat": 4,
  "nbformat_minor": 0,
  "metadata": {
    "colab": {
      "provenance": [],
      "authorship_tag": "ABX9TyNhaHP34/4G324IYniu5CRM",
      "include_colab_link": true
    },
    "kernelspec": {
      "name": "python3",
      "display_name": "Python 3"
    },
    "language_info": {
      "name": "python"
    }
  },
  "cells": [
    {
      "cell_type": "markdown",
      "metadata": {
        "id": "view-in-github",
        "colab_type": "text"
      },
      "source": [
        "<a href=\"https://colab.research.google.com/github/Ds2023/Databases-Content/blob/main/Normalization.ipynb\" target=\"_parent\"><img src=\"https://colab.research.google.com/assets/colab-badge.svg\" alt=\"Open In Colab\"/></a>"
      ]
    },
    {
      "cell_type": "markdown",
      "source": [
        "# **Introduction to Normalization in Relational Databases**"
      ],
      "metadata": {
        "id": "ETIu0xlh_Gdt"
      }
    },
    {
      "cell_type": "markdown",
      "source": [
        "Normalization is a process in database design used to minimize redundancy and dependency by organizing fields and table of a database. The main goal of normalization is to separate data into logical units, ensuring that each piece of data is stored only once and in the most appropriate place.\n",
        "\n",
        "Normalization involves several steps, each building on the previous one, and each step is known as a \"normal form\". The most commonly used normal forms are the First Normal Form (1NF), Second Normal Form (2NF), and Third Normal Form (3NF). Higher normal forms, such as Boyce-Codd Normal Form (BCNF) and Fourth Normal Form (4NF), exist but are less commonly used in practical applications."
      ],
      "metadata": {
        "id": "6acXvLNw_NhS"
      }
    },
    {
      "cell_type": "markdown",
      "source": [
        "**First Normal Form (1NF)**\n",
        "\n",
        "A table is in First Normal Form if:\n",
        "\n",
        "- It contains only atomic (indivisible) values.\n",
        "- Each column contains values of a single type.\n",
        "- Each column contains unique values."
      ],
      "metadata": {
        "id": "zuSNv5bW_UOH"
      }
    },
    {
      "cell_type": "markdown",
      "source": [
        "**Violations:**\n",
        "\n",
        "- Using row order to convey information. ie tallest to shortest. **Solution** - Be Explicit. Hava a separate column for height\n",
        "- Mixing data types within the same column **Solution** Avoid that. dbms will also not allow that.\n",
        "- Designing a column without a primary key.\n",
        "- Repeating groups."
      ],
      "metadata": {
        "id": "jrGXd6jvC_TI"
      }
    },
    {
      "cell_type": "markdown",
      "source": [
        "**Second Normal Form (2NF)**\n",
        "\n",
        "A table is in Second Normal Form if:\n",
        "\n",
        "- It is in 1NF.\n",
        "- All non-key attributes are fully functional dependent on the entire primary key."
      ],
      "metadata": {
        "id": "VVly-iJr_jDE"
      }
    },
    {
      "cell_type": "markdown",
      "source": [
        "**Third Normal Form (3NF)**\n",
        "\n",
        "A table is in Third Normal Form if:\n",
        "\n",
        "- It is in 2NF.\n",
        "- All the attributes are functionally dependent only on the primary key."
      ],
      "metadata": {
        "id": "PP0GKmwy_roN"
      }
    },
    {
      "cell_type": "markdown",
      "source": [
        "- A super key is any set of columns that uniquely identifies a row.\n",
        "- A candidate key is a minimal super key.\n",
        "- A primary key is a selected candidate key that uniquely identifies rows in a table."
      ],
      "metadata": {
        "id": "L_d88NtOAYAn"
      }
    }
  ]
}