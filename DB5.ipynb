{
  "nbformat": 4,
  "nbformat_minor": 0,
  "metadata": {
    "colab": {
      "provenance": []
    },
    "kernelspec": {
      "name": "python3",
      "display_name": "Python 3"
    },
    "language_info": {
      "name": "python"
    }
  },
  "cells": [
    {
      "cell_type": "markdown",
      "source": [
        "# **Logical Model**"
      ],
      "metadata": {
        "id": "UiCcaMZM7kww"
      }
    },
    {
      "cell_type": "markdown",
      "source": [
        "- A logical data model (LDM) refines the high-level overview of the conceptual model (ERD) into a more technical blueprint.\n",
        "- A logical model contains representations of entities and attributes, relationships, unique identifiers, subtypes and supertypes, and constraints between relationships."
      ],
      "metadata": {
        "id": "zQLaVRT27z5e"
      }
    },
    {
      "cell_type": "markdown",
      "source": [
        "- Think of an LDM as a **detailed recipe** for your database.  It outlines the ingredients (**entities and attributes**), how they are combined (**relationships**), and the specific measurements needed (**data types**)."
      ],
      "metadata": {
        "id": "IPGMwurvsN8C"
      }
    },
    {
      "cell_type": "markdown",
      "source": [
        "## **Key Differences Between Conceptual and Logical Models:**\n",
        "\n",
        "**Level of Detail:**\n",
        "The conceptual model provides a high-level overview, independent of specific database technologies. The logical model delves deeper, defining data types and using more technical terms for relationships.\n",
        "\n",
        "**Focus:**\n",
        "The conceptual model focuses on \"what\" data needs to be stored and how entities relate to each other. The logical model focuses on \"how\" the data will be structured and accessed within a database system."
      ],
      "metadata": {
        "id": "FNnAH2Uu8e1S"
      }
    },
    {
      "cell_type": "markdown",
      "source": [
        "**An example of a logical model:**\n",
        "\n",
        "![image](https://www.gooddata.com/img/blog/_2000xauto/ldm-for-e-commerce.png)"
      ],
      "metadata": {
        "id": "IOY-zbep88bf"
      }
    },
    {
      "cell_type": "markdown",
      "source": [
        "## **Key Components of an LDM:**"
      ],
      "metadata": {
        "id": "q9feFBVzr59B"
      }
    },
    {
      "cell_type": "markdown",
      "source": [
        "**Entities:**\n",
        "\n",
        "Represent real-world objects or concepts relevant to the database (e.g., Customer, Product, Order).\n",
        "\n",
        "**Attributes:**\n",
        "\n",
        "Define the characteristics or properties associated with each entity (e.g., customer_name, product_id, order_date).\n",
        "\n",
        "**Relationships:**\n",
        "\n",
        "Describe how entities are connected and interact with each other (e.g., a Customer can place many Orders).\n",
        "\n",
        "**Data Types:**\n",
        "\n",
        "Specify the type of data each attribute can hold (e.g., text, number, date).\n",
        "Primary Keys: Unique identifiers for each entity table (e.g., customer_id in the Customer table).\n",
        "\n",
        "**Foreign Keys:**\n",
        "\n",
        "References to primary keys in other tables, enforcing relationships and data integrity.\n",
        "\n",
        "**Constraints:**\n",
        "\n",
        "Rules that govern the data within the database (e.g., ensuring certain fields are not null or have specific value ranges)."
      ],
      "metadata": {
        "id": "O4aZRneCrmi5"
      }
    },
    {
      "cell_type": "markdown",
      "source": [
        "## **Why do we need a proper logical data model?**"
      ],
      "metadata": {
        "id": "okGtIAKX1Bx1"
      }
    },
    {
      "cell_type": "markdown",
      "source": [
        "A logical data model (LDM) serves as the blueprint for organizing and structuring data within a database system. Its significance lies in its ability to ensure data integrity, optimize database performance, and accurately represent relationships between data entities. Here's why a well-designed logical model, including relationships, is essential:\n",
        "\n",
        "**Ensures Data Integrity:**\n",
        "\n",
        "The logical model defines the structure of the database, including entities, attributes, and relationships. By accurately representing these elements, the model helps enforce data integrity, ensuring that the data stored in the database is accurate, consistent, and reliable.\n",
        "\n",
        "**Facilitates Correct Data Types:**\n",
        "\n",
        "Correctly defining data types for attributes is essential for storing data accurately and efficiently. For example, using numeric data types for numerical values, date/time data types for temporal information, and string data types for textual data ensures that each piece of data is stored in the most appropriate format.\n",
        "\n",
        "**Captures Relationships:**\n",
        "\n",
        "Relationships between entities are crucial for accurately representing the connections and dependencies between different data elements. By capturing relationships in the logical model, such as one-to-one, one-to-many, or many-to-many relationships, the model ensures that the database reflects the real-world interactions between data entities.\n",
        "\n",
        "**Improves Data Quality:**\n",
        "\n",
        "Accurately representing relationships in the logical model improves data quality by ensuring that related data is stored and managed cohesively. For example, in a customer-orders relationship, maintaining the relationship in the logical model ensures that each order is associated with the correct customer, reducing the risk of data inconsistency and errors.\n",
        "\n",
        "**Enhances Query Performance:**\n",
        "\n",
        "Relationships defined in the logical model facilitate efficient querying of the database. By establishing relationships between related entities, queries can be structured to retrieve data from multiple tables, resulting in faster query execution and improved overall performance.\n",
        "\n",
        "**Supports Data Validation:**\n",
        "\n",
        "Relationships can also contribute to data validation and integrity enforcement. For instance, referential integrity constraints ensure that relationships between entities are maintained, preventing the insertion of invalid or orphaned data into the database."
      ],
      "metadata": {
        "id": "ZS_hsXrv1MKu"
      }
    },
    {
      "cell_type": "markdown",
      "source": [
        "## **Transitioning from ERD to LDM:**"
      ],
      "metadata": {
        "id": "3keaVUJ3sv-8"
      }
    },
    {
      "cell_type": "markdown",
      "source": [
        "The ERD from the conceptual design stage serves as a roadmap for building your LDM. Here's a general process:\n",
        "\n",
        "- **Refine Entities and Attributes**: Review the entities and attributes identified in the ERD. Provide more specific names and data types for the attributes.\n",
        "\n",
        "- **Define Primary Keys**: Identify a unique identifier (primary key) for each entity table. This primary key will be used to uniquely identify each row of data in the table.\n",
        "\n",
        "- **Foreign Keys and Relationships**: Establish relationships between tables using foreign keys. A foreign key in one table references the primary key of another table, enforcing data integrity and linking related data."
      ],
      "metadata": {
        "id": "-WKLIpHbstTY"
      }
    },
    {
      "cell_type": "markdown",
      "source": [
        "## **Building a Logical Data Model:**"
      ],
      "metadata": {
        "id": "Zn0nw4i-ushO"
      }
    },
    {
      "cell_type": "markdown",
      "source": [
        "### **Mapping Entities:**"
      ],
      "metadata": {
        "id": "qN1T3yxM4WLW"
      }
    },
    {
      "cell_type": "markdown",
      "source": [
        "**Review and Refine:**\n",
        "\n",
        "Start by reviewing the entities identified in your conceptual model (ERD).\n",
        "Ensure the entity names are clear, concise, and accurately reflect the real-world objects they represent.\n",
        "Consider if any entities need to be further divided or combined based on their attributes and functionalities.\n",
        "\n",
        "**Attributes and Data Types:**\n",
        "\n",
        "Analyze the attributes associated with each entity.\n",
        "Define the data type for each attribute based on the kind of data it will hold (e.g., text, numbers, dates).\n",
        "This step translates the conceptual understanding of attributes into specific database data types.\n",
        "\n",
        "**Primary Keys:**\n",
        "\n",
        "Identify a unique identifier (primary key) for each entity. This primary key will be used to uniquely reference each record within the entity's table.\n",
        "Common choices for primary keys include unique identification numbers or combinations of attributes that uniquely identify a record (composite primary keys)."
      ],
      "metadata": {
        "id": "EoR27_o_33i5"
      }
    },
    {
      "cell_type": "markdown",
      "source": [
        "### **Mapping Relationships:**"
      ],
      "metadata": {
        "id": "InG1_XEB4aR-"
      }
    },
    {
      "cell_type": "markdown",
      "source": [
        "**Identify Relationships:**\n",
        "\n",
        "Review the relationships between entities in the conceptual model and identify them for mapping into the logical model. Relationships may be one-to-one, one-to-many, or many-to-many.\n",
        "\n",
        "**Translate Relationships into Foreign Keys:**\n",
        "\n",
        "For each relationship identified, determine how it will be represented in the logical model. Typically, relationships are implemented using foreign keys.\n",
        "In the table representing the \"many\" side of the relationship, include a foreign key that references the primary key of the related table representing the \"one\" side of the relationship.\n",
        "\n",
        "**Establish Cardinality and Participation:**\n",
        "\n",
        "Determine the cardinality and participation constraints for each relationship. Cardinality specifies the maximum number of instances of one entity that can be associated with a single instance of another entity. Participation constraints specify whether the existence of an entity in a relationship is mandatory or optional.\n",
        "\n",
        "**Resolve Many-to-Many Relationships:**\n",
        "\n",
        "For many-to-many relationships, create an intermediary table, also known as a junction or associative table, to resolve the relationship. This table typically contains foreign keys referencing the primary keys of the entities involved in the relationship.\n",
        "\n",
        "**Ensure Referential Integrity:**\n",
        "\n",
        "Ensure that the foreign key constraints enforce referential integrity, meaning that any value in a foreign key column must exist as a primary key in the related table. This ensures data consistency and prevents orphaned records."
      ],
      "metadata": {
        "id": "JL28poAF4Tou"
      }
    },
    {
      "cell_type": "markdown",
      "source": [
        "**Simple Rule of Thumb**\n",
        "\n",
        "![image](https://cdn.hashnode.com/res/hashnode/image/upload/v1712823532843/c85d2557-0ba4-41ac-a590-94aa135c627f.png?auto=compress,format&format=webp)"
      ],
      "metadata": {
        "id": "-qXob1m6JY_b"
      }
    },
    {
      "cell_type": "code",
      "source": [],
      "metadata": {
        "id": "kzeQyNIrr4vB"
      },
      "execution_count": null,
      "outputs": []
    }
  ]
}